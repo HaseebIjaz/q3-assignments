{
 "cells": [
  {
   "cell_type": "code",
   "execution_count": 2,
   "metadata": {},
   "outputs": [
    {
     "data": {
      "text/plain": [
       "'\\nYou are tasked with developing a Python program to manage a student database. The user should be able to add new students or stop the input process by entering \"stop.\" Each student\\'s name, along with a sequentially generated ID starting from 1, should be stored in a tuple, with these tuples kept in a list. The program must check for duplicate names before adding a new student and display a message if a duplicate is found. After the input process ends, the program should first display the complete list of student tuples and then display each student\\'s ID and name individually. Additionally, the program should show the total number of students, calculate and display the total length of all student names combined, and identify the student with the longest and shortest name using appropriate operators. Implement these operations within a function named `manage_student_database()` and ensure you call this function at the end of your code.\\n'"
      ]
     },
     "execution_count": 2,
     "metadata": {},
     "output_type": "execute_result"
    }
   ],
   "source": [
    "\"\"\"\n",
    "You are tasked with developing a Python program to manage a student database. \n",
    "The user should be able to add new students or stop the input process by entering \"stop.\" \n",
    "Each student's name, along with a sequentially generated ID starting from 1, should be stored in a tuple,\n",
    " with these tuples kept in a list. \n",
    " The program must check for duplicate names \n",
    " before adding a new student and display a message if a duplicate is found. \n",
    " After the input process ends, \n",
    " the program should first display the complete list of student tuples \n",
    " and then display each student's ID and name individually. \n",
    " Additionally, the program should show the total number of students, \n",
    " calculate and display the total length of all student names combined, \n",
    " and identify the student with the longest and shortest name using appropriate operators. \n",
    " Implement these operations within a function named `manage_student_database()` \n",
    " and ensure you call this function at the end of your code.\n",
    "\"\"\""
   ]
  },
  {
   "cell_type": "code",
   "execution_count": 8,
   "metadata": {},
   "outputs": [
    {
     "name": "stdout",
     "output_type": "stream",
     "text": [
      "The total number of students:  3\n",
      "The total length of all student names combined:  21\n",
      "The longest name student is sheikhistan\n",
      "The shortest name student is ijaz\n"
     ]
    }
   ],
   "source": [
    "from typing import Tuple, List\n",
    "\n",
    "roll_no: int = 1\n",
    "students: List[Tuple[int,str]] = [] \n",
    "class ExitException(Exception):\n",
    "    def __init__(self, message:str = \"Program was terminated by the user\"):\n",
    "        self.message = message\n",
    "        super().__init__(message)\n",
    "\n",
    "class DuplicateStudentException(Exception):\n",
    "    def __init__(self, message:str = \"Duplicate student was found\"):\n",
    "        self.message = message\n",
    "        super().__init__(message)\n",
    "\n",
    "\n",
    "class StudentValidator():\n",
    "    def check_exit(self, student_name:str):\n",
    "        if(student_name == \"stop\"):\n",
    "            raise ExitException()\n",
    "    def check_duplicate(self, student_name:str):\n",
    "        if(any([name == student_name for roll,name in students])):\n",
    "            raise DuplicateStudentException()\n",
    "\n",
    "\n",
    "validator = StudentValidator()\n",
    "\n",
    "def add_new_student() -> Tuple[int, str]:\n",
    "    student_name = input(\"Enter student's name : \")\n",
    "    validator.check_exit(student_name)\n",
    "    validator.check_duplicate(student_name)\n",
    "    return (roll_no+1,student_name)\n",
    "\n",
    "def manage_student_database():\n",
    "    try:\n",
    "        while(True):\n",
    "            students.append(add_new_student())\n",
    "    except:\n",
    "        pass\n",
    "    finally:\n",
    "        print(\"The total number of students: \", len(students))\n",
    "        print(\"The total length of all student names combined: \", sum([len(name) for roll,name in students]))\n",
    "        if students:\n",
    "            longest_name_student = max(students, key = lambda x: len(x[1]))\n",
    "            print(f\"The longest name student is {longest_name_student[1]}\")\n",
    "            shortest_name_student = min(students, key = lambda x: len(x[1]))\n",
    "            print(f\"The shortest name student is {shortest_name_student[1]}\")\n",
    "\n",
    "\n",
    "manage_student_database()\n"
   ]
  },
  {
   "cell_type": "code",
   "execution_count": null,
   "metadata": {},
   "outputs": [],
   "source": []
  }
 ],
 "metadata": {
  "kernelspec": {
   "display_name": "Python 3",
   "language": "python",
   "name": "python3"
  },
  "language_info": {
   "codemirror_mode": {
    "name": "ipython",
    "version": 3
   },
   "file_extension": ".py",
   "mimetype": "text/x-python",
   "name": "python",
   "nbconvert_exporter": "python",
   "pygments_lexer": "ipython3",
   "version": "3.12.4"
  }
 },
 "nbformat": 4,
 "nbformat_minor": 2
}
