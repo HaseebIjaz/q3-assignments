{
 "cells": [
  {
   "cell_type": "code",
   "execution_count": 11,
   "metadata": {},
   "outputs": [
    {
     "name": "stdout",
     "output_type": "stream",
     "text": [
      "Welcome to the High-Low Game! \n",
      "\n",
      "--------------------------------\n",
      "Round 0\n",
      "Your number is 14\n",
      "Your score is now 0\n"
     ]
    },
    {
     "name": "stdout",
     "output_type": "stream",
     "text": [
      "lower\n",
      "You were right! The computer's number was 27\n",
      "\n",
      "Round 0\n",
      "Your number is 32\n",
      "Your score is now 1\n",
      "lower\n",
      "You were right! The computer's number was 71\n",
      "\n",
      "Round 0\n",
      "Your number is 69\n",
      "Your score is now 2\n",
      "higher\n",
      "You were right! The computer's number was 60\n",
      "\n",
      "Round 0\n",
      "Your number is 19\n",
      "Your score is now 3\n",
      "higher\n",
      "Aww, that's incorrect. The computer's number was 65\n",
      "\n",
      "Round 0\n",
      "Your number is 40\n",
      "Your score is now 3\n",
      "exit\n"
     ]
    },
    {
     "ename": "TypeError",
     "evalue": "UserExitException.__init__() missing 1 required positional argument: 'message'",
     "output_type": "error",
     "traceback": [
      "\u001b[0;31m---------------------------------------------------------------------------\u001b[0m",
      "\u001b[0;31mTypeError\u001b[0m                                 Traceback (most recent call last)",
      "Cell \u001b[0;32mIn[11], line 64\u001b[0m\n\u001b[1;32m     62\u001b[0m welcome()\n\u001b[1;32m     63\u001b[0m \u001b[38;5;28;01mtry\u001b[39;00m:\n\u001b[0;32m---> 64\u001b[0m     round_controller()\n\u001b[1;32m     65\u001b[0m \u001b[38;5;28;01mexcept\u001b[39;00m UserExitException:\n\u001b[1;32m     66\u001b[0m     \u001b[38;5;28mprint\u001b[39m(\u001b[38;5;124m\"\u001b[39m\u001b[38;5;124mThanks for playing!\u001b[39m\u001b[38;5;124m\"\u001b[39m)\n",
      "Cell \u001b[0;32mIn[11], line 57\u001b[0m, in \u001b[0;36mround_controller\u001b[0;34m()\u001b[0m\n\u001b[1;32m     55\u001b[0m \u001b[38;5;28mprint\u001b[39m(\u001b[38;5;124mf\u001b[39m\u001b[38;5;124m\"\u001b[39m\u001b[38;5;124mYour number is \u001b[39m\u001b[38;5;132;01m{\u001b[39;00muser_number\u001b[38;5;132;01m}\u001b[39;00m\u001b[38;5;124m\"\u001b[39m)\n\u001b[1;32m     56\u001b[0m \u001b[38;5;28mprint\u001b[39m(\u001b[38;5;124mf\u001b[39m\u001b[38;5;124m\"\u001b[39m\u001b[38;5;124mYour score is now \u001b[39m\u001b[38;5;132;01m{\u001b[39;00mscore\u001b[38;5;132;01m}\u001b[39;00m\u001b[38;5;124m\"\u001b[39m)\n\u001b[0;32m---> 57\u001b[0m score \u001b[38;5;241m+\u001b[39m\u001b[38;5;241m=\u001b[39m get_user_choice(computer_number,user_number)\n\u001b[1;32m     58\u001b[0m \u001b[38;5;28mprint\u001b[39m(\u001b[38;5;124m\"\u001b[39m\u001b[38;5;124m\"\u001b[39m)\n\u001b[1;32m     59\u001b[0m round_count \u001b[38;5;241m+\u001b[39m\u001b[38;5;241m=\u001b[39m \u001b[38;5;241m1\u001b[39m\n",
      "Cell \u001b[0;32mIn[11], line 33\u001b[0m, in \u001b[0;36mget_user_choice\u001b[0;34m(computer_number, user_number)\u001b[0m\n\u001b[1;32m     31\u001b[0m user_input: \u001b[38;5;28mstr\u001b[39m \u001b[38;5;241m=\u001b[39m \u001b[38;5;28minput\u001b[39m(\u001b[38;5;124m\"\u001b[39m\u001b[38;5;124mDo you think your number is higher or lower than the computer\u001b[39m\u001b[38;5;124m'\u001b[39m\u001b[38;5;124ms?: \u001b[39m\u001b[38;5;124m\"\u001b[39m)\n\u001b[1;32m     32\u001b[0m \u001b[38;5;28mprint\u001b[39m(user_input)\n\u001b[0;32m---> 33\u001b[0m validator\u001b[38;5;241m.\u001b[39muser_choice_validator(user_input)\n\u001b[1;32m     34\u001b[0m \u001b[38;5;28;01mif\u001b[39;00m(user_input \u001b[38;5;241m==\u001b[39m \u001b[38;5;124m\"\u001b[39m\u001b[38;5;124mhigher\u001b[39m\u001b[38;5;124m\"\u001b[39m):\n\u001b[1;32m     35\u001b[0m     \u001b[38;5;28;01mif\u001b[39;00m(user_number \u001b[38;5;241m>\u001b[39m computer_number):\n",
      "Cell \u001b[0;32mIn[11], line 13\u001b[0m, in \u001b[0;36mInputValidator.user_choice_validator\u001b[0;34m(self, user_input)\u001b[0m\n\u001b[1;32m     11\u001b[0m \u001b[38;5;28;01mdef\u001b[39;00m \u001b[38;5;21muser_choice_validator\u001b[39m(\u001b[38;5;28mself\u001b[39m,user_input):\n\u001b[1;32m     12\u001b[0m     \u001b[38;5;28;01mif\u001b[39;00m (user_input \u001b[38;5;129;01min\u001b[39;00m [\u001b[38;5;124m\"\u001b[39m\u001b[38;5;124mquit\u001b[39m\u001b[38;5;124m\"\u001b[39m, \u001b[38;5;124m\"\u001b[39m\u001b[38;5;124mexit\u001b[39m\u001b[38;5;124m\"\u001b[39m,\u001b[38;5;124m\"\u001b[39m\u001b[38;5;124mclose\u001b[39m\u001b[38;5;124m\"\u001b[39m]):\n\u001b[0;32m---> 13\u001b[0m         \u001b[38;5;28;01mraise\u001b[39;00m UserExitException\n\u001b[1;32m     14\u001b[0m     \u001b[38;5;28;01mif\u001b[39;00m (user_input \u001b[38;5;129;01mnot\u001b[39;00m \u001b[38;5;129;01min\u001b[39;00m [\u001b[38;5;124m\"\u001b[39m\u001b[38;5;124mhigher\u001b[39m\u001b[38;5;124m\"\u001b[39m,\u001b[38;5;124m\"\u001b[39m\u001b[38;5;124mlower\u001b[39m\u001b[38;5;124m\"\u001b[39m]):\n\u001b[1;32m     15\u001b[0m         \u001b[38;5;28;01mraise\u001b[39;00m InvalidInputException\n",
      "\u001b[0;31mTypeError\u001b[0m: UserExitException.__init__() missing 1 required positional argument: 'message'"
     ]
    }
   ],
   "source": [
    "class InvalidInputException(Exception):\n",
    "    def __init__(self,message):\n",
    "        self.message = message\n",
    "        super().__init__(message)\n",
    "class UserExitException(Exception):\n",
    "    def __init__(self,message):\n",
    "        self.message = message\n",
    "        super().__init__(message)\n",
    "\n",
    "class InputValidator:\n",
    "    def user_choice_validator(self,user_input):\n",
    "        if (user_input in [\"quit\", \"exit\",\"close\"]):\n",
    "            raise UserExitException\n",
    "        if (user_input not in [\"higher\",\"lower\"]):\n",
    "            raise InvalidInputException\n",
    "\n",
    "\n",
    "import random \n",
    "from typing import Tuple\n",
    "\n",
    "validator = InputValidator()\n",
    "def welcome():\n",
    "    print(\"\"\"Welcome to the High-Low Game! \\n\n",
    "--------------------------------\"\"\")\n",
    "def define_random_numbers() -> Tuple[int,int]:\n",
    "    computer_number = random.randint(1,100)\n",
    "    user_number = random.randint(1,100)\n",
    "    return (computer_number,user_number)\n",
    "\n",
    "def get_user_choice(computer_number:int,user_number:int) :\n",
    "    user_input: str = input(\"Do you think your number is higher or lower than the computer's?: \")\n",
    "    validator.user_choice_validator(user_input)\n",
    "    if(user_input == \"higher\"):\n",
    "        if(user_number > computer_number):\n",
    "            print(f\"You were right! The computer's number was {computer_number}\")\n",
    "            return 1\n",
    "        else:\n",
    "            print(f\"Aww, that's incorrect. The computer's number was {computer_number}\")\n",
    "            return 0\n",
    "    elif (user_input == \"lower\"):\n",
    "        if(user_number < computer_number):\n",
    "            print(f\"You were right! The computer's number was {computer_number}\")\n",
    "            return 1\n",
    "        else:\n",
    "            print(f\"Aww, that's incorrect. The computer's number was {computer_number}\")\n",
    "            return 0\n",
    "\n",
    "def round_controller():\n",
    "    score = 0\n",
    "    while True:\n",
    "        round_count:int = 0\n",
    "        computer_number,user_number = define_random_numbers()\n",
    "        print(f\"Round {round_count}\")\n",
    "        print(f\"Your number is {user_number}\")\n",
    "        print(f\"Your score is now {score}\")\n",
    "        score += get_user_choice(computer_number,user_number)\n",
    "        print(\"\")\n",
    "        round_count += 1\n",
    "\n",
    "\n",
    "welcome()\n",
    "try:\n",
    "    round_controller()\n",
    "except UserExitException:\n",
    "    print(\"Thanks for playing!\")\n",
    "    \n"
   ]
  },
  {
   "cell_type": "code",
   "execution_count": null,
   "metadata": {},
   "outputs": [],
   "source": [
    "print(\"hs\")"
   ]
  },
  {
   "cell_type": "code",
   "execution_count": null,
   "metadata": {},
   "outputs": [],
   "source": []
  }
 ],
 "metadata": {
  "kernelspec": {
   "display_name": "Python 3",
   "language": "python",
   "name": "python3"
  },
  "language_info": {
   "codemirror_mode": {
    "name": "ipython",
    "version": 3
   },
   "file_extension": ".py",
   "mimetype": "text/x-python",
   "name": "python",
   "nbconvert_exporter": "python",
   "pygments_lexer": "ipython3",
   "version": "3.12.4"
  }
 },
 "nbformat": 4,
 "nbformat_minor": 2
}
