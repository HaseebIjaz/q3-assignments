{
 "cells": [
  {
   "cell_type": "code",
   "execution_count": 2,
   "metadata": {},
   "outputs": [
    {
     "data": {
      "text/plain": [
       "'\\nTask\\n\\nYou are tasked with creating a Python program \\nthat serves as an interactive tool for a friend \\nwho enjoys exploring numbers. \\nThe program should begin by prompting the user to enter their name \\nand then ask them for three of their favorite numbers. After gathering this information,\\nthe program should greet the user with a personalized message that includes their name. \\nThe three numbers provided by the user should be stored in a list. \\nThe program should then check if any of the numbers are even or odd, \\nand store this information in a separate list of tuples, \\nwhere each tuple contains the number and a string indicating whether it is \"even\" or \"odd\". \\nFollowing this, the program should use a for loop to iterate over the list of numbers, and for each number, \\nit should create a tuple containing the number and its square. \\nThese tuples should be printed in a creative and engaging format. \\nAdditionally, the program should calculate the sum of the three numbers and print the result,\\naccompanied by an encouraging message. \\nFinally, the program should determine if the sum is a prime number and notify the user with an appropriate message. \\nThe goal is to make the tool both enjoyable and informative, \\nallowing the user to explore their favorite numbers in a fun and interactive way, \\nwhile also introducing some interesting logical checks.\\n'"
      ]
     },
     "execution_count": 2,
     "metadata": {},
     "output_type": "execute_result"
    }
   ],
   "source": [
    "\"\"\"\n",
    "Task\n",
    "\n",
    "You are tasked with creating a Python program \n",
    "that serves as an interactive tool for a friend \n",
    "who enjoys exploring numbers. \n",
    "The program should begin by prompting the user to enter their name \n",
    "and then ask them for three of their favorite numbers. After gathering this information,\n",
    "the program should greet the user with a personalized message that includes their name. \n",
    "The three numbers provided by the user should be stored in a list. \n",
    "The program should then check if any of the numbers are even or odd, \n",
    "and store this information in a separate list of tuples, \n",
    "where each tuple contains the number and a string indicating whether it is \"even\" or \"odd\". \n",
    "Following this, the program should use a for loop to iterate over the list of numbers, and for each number, \n",
    "it should create a tuple containing the number and its square. \n",
    "These tuples should be printed in a creative and engaging format. \n",
    "Additionally, the program should calculate the sum of the three numbers and print the result,\n",
    "accompanied by an encouraging message. \n",
    "Finally, the program should determine if the sum is a prime number and notify the user with an appropriate message. \n",
    "The goal is to make the tool both enjoyable and informative, \n",
    "allowing the user to explore their favorite numbers in a fun and interactive way, \n",
    "while also introducing some interesting logical checks.\n",
    "\"\"\""
   ]
  },
  {
   "cell_type": "code",
   "execution_count": 6,
   "metadata": {},
   "outputs": [
    {
     "name": "stdout",
     "output_type": "stream",
     "text": [
      "Hello, haseeb! Let's explore your favorite numbers:\n",
      "The number 1 is odd.\n",
      "The number 1 is odd.\n",
      "The number 1 is odd.\n",
      "The number 1 and its square: (1, 1)\n",
      "The number 1 and its square: (1, 1)\n",
      "The number 1 and its square: (1, 1)\n",
      "Amazing! The sum of your favorite numbers is: 3\n",
      "Wow 3 is a prime number!\n"
     ]
    }
   ],
   "source": [
    "    \n",
    "import re\n",
    "\n",
    "class InvalidInputException(Exception):\n",
    "    def __init__(self,message):\n",
    "        super().__init__(message)\n",
    "\n",
    "class InputValidator:\n",
    "    def validate_name(self,name):\n",
    "        if not re.match(\"^[a-zA-Z]+$\",name):\n",
    "            raise InvalidInputException(\"The name contains characters other than alphabets\")\n",
    "\n",
    "\n",
    "\n",
    "from typing import List, Tuple\n",
    "\n",
    "validator = InputValidator()\n",
    "\n",
    "def gatherInfo() -> Tuple[str,List[int]]:\n",
    "    name:str = input(\"Enter your name: \")\n",
    "    firstNumber:str = input(\"Enter your first favorite number: \")\n",
    "    secondNumber:str = input(\"Enter your second favorite number: \")\n",
    "    thirdNumber:str = input(\"Enter your third favorite number: \")\n",
    "    validator.validate_name(name)    \n",
    "    nums: List[int] = []\n",
    "\n",
    "    nums.append(int(firstNumber))\n",
    "    nums.append(int(secondNumber))\n",
    "    nums.append(int(thirdNumber))\n",
    "\n",
    "    infoTup: Tuple[str,List[int]] = (name,nums)\n",
    "    return infoTup\n",
    "\n",
    "def checkEvenOdd(infoTup: Tuple[str, List[int]]):\n",
    "    name, numbers = infoTup\n",
    "    print(f\"Hello, {name}! Let's explore your favorite numbers:\")\n",
    "    for num in numbers:\n",
    "        print(f\"The number {num} is {\"even\" if num %2 == 0 else \"odd\"}.\")\n",
    "\n",
    "def makeSquares(infoTup: Tuple[str, List[int]]):\n",
    "    name,numbers = infoTup\n",
    "    for num in numbers:\n",
    "        print(f\"The number {num} and its square: ({num}, {num**2})\")\n",
    "\n",
    "def sumOfNums(infoTup: Tuple[str, List[int]]) -> int:\n",
    "    name,numbers = infoTup\n",
    "    sumOfNums = sum(numbers)\n",
    "    print(f\"Amazing! The sum of your favorite numbers is: {sumOfNums}\")\n",
    "    return sumOfNums\n",
    "\n",
    "def checkPrime(number:int,divisor:int = 2):\n",
    "    if(number < 2):\n",
    "        print(f\"{number} is not a prime number!\")\n",
    "        return        \n",
    "    if(number % divisor == 0):\n",
    "        print(f\"{number} is not a prime number!\")\n",
    "        return\n",
    "    if(divisor > number/2):\n",
    "        print(f\"Wow {number} is a prime number!\")\n",
    "        return\n",
    "    checkPrime(number,divisor+1)\n",
    "\n",
    "try:\n",
    "    infoTup: Tuple[str,List[int]] = gatherInfo()\n",
    "    checkEvenOdd(infoTup)\n",
    "    makeSquares(infoTup)\n",
    "    sumNums:int = sumOfNums(infoTup)\n",
    "    checkPrime(sumNums)\n",
    "except InvalidInputException as e:\n",
    "    print(f\"Validation Error : {e}\")\n",
    "except ValueError:\n",
    "    print(\"You entered string instead of number\")"
   ]
  },
  {
   "cell_type": "code",
   "execution_count": null,
   "metadata": {},
   "outputs": [],
   "source": []
  },
  {
   "cell_type": "code",
   "execution_count": null,
   "metadata": {},
   "outputs": [],
   "source": []
  }
 ],
 "metadata": {
  "kernelspec": {
   "display_name": "base",
   "language": "python",
   "name": "python3"
  },
  "language_info": {
   "codemirror_mode": {
    "name": "ipython",
    "version": 3
   },
   "file_extension": ".py",
   "mimetype": "text/x-python",
   "name": "python",
   "nbconvert_exporter": "python",
   "pygments_lexer": "ipython3",
   "version": "3.12.4"
  }
 },
 "nbformat": 4,
 "nbformat_minor": 2
}
