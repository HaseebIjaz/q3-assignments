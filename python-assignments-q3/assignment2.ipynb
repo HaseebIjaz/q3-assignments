{
 "cells": [
  {
   "cell_type": "code",
   "execution_count": 1,
   "metadata": {},
   "outputs": [
    {
     "data": {
      "text/plain": [
       "'\\n\\nAdd two numbers\\n\\nWrite a Python program that takes two integer inputs from the user and calculates their sum. The program should perform the following tasks:\\n\\n    Prompt the user to enter the first number.\\n    Read the input and convert it to an integer.\\n    Prompt the user to enter the second number.\\n    Read the input and convert it to an integer.\\n    Calculate the sum of the two numbers.\\n\\nPrint the total sum with an appropriate message.\\n\\n'"
      ]
     },
     "execution_count": 1,
     "metadata": {},
     "output_type": "execute_result"
    }
   ],
   "source": [
    "\"\"\"\n",
    "\n",
    "Add two numbers\n",
    "\n",
    "Write a Python program that takes two integer inputs from the user and calculates their sum. The program should perform the following tasks:\n",
    "\n",
    "    Prompt the user to enter the first number.\n",
    "    Read the input and convert it to an integer.\n",
    "    Prompt the user to enter the second number.\n",
    "    Read the input and convert it to an integer.\n",
    "    Calculate the sum of the two numbers.\n",
    "\n",
    "Print the total sum with an appropriate message.\n",
    "\n",
    "\"\"\""
   ]
  },
  {
   "cell_type": "code",
   "execution_count": 7,
   "metadata": {},
   "outputs": [
    {
     "name": "stdout",
     "output_type": "stream",
     "text": [
      "Sum of 12 and 1 is 13\n"
     ]
    }
   ],
   "source": [
    "try:\n",
    "    num1:int = int(input(\"Enter First Number\"))\n",
    "    num2:int = int(input(\"Enter Second Number\"))\n",
    "    print(f'Sum of {num1} and {num2} is {num1+num2}')\n",
    "except(ValueError):\n",
    "    print(\"Program exited since you entered a value other than integer\")"
   ]
  },
  {
   "cell_type": "code",
   "execution_count": 9,
   "metadata": {},
   "outputs": [
    {
     "data": {
      "text/plain": [
       "'\\nWrite a program which asks the user what their favorite animal is, and then always responds with \"My favorite animal is also ___!\" (the blank should be filled in with the user-inputted animal, of course).\\n\\nHere\\'s a sample run of the program (user input is in bold italics - note the space between the prompt and the user input!):\\n\\nWhat\\'s your favorite animal? cow\\n\\nMy favorite animal is also cow!\\n\\n'"
      ]
     },
     "execution_count": 9,
     "metadata": {},
     "output_type": "execute_result"
    }
   ],
   "source": [
    "\"\"\"\n",
    "Write a program which asks the user what their favorite animal is, and then always responds with \"My favorite animal is also ___!\" (the blank should be filled in with the user-inputted animal, of course).\n",
    "\n",
    "Here's a sample run of the program (user input is in bold italics - note the space between the prompt and the user input!):\n",
    "\n",
    "What's your favorite animal? cow\n",
    "\n",
    "My favorite animal is also cow!\n",
    "\n",
    "\"\"\""
   ]
  },
  {
   "cell_type": "code",
   "execution_count": 10,
   "metadata": {},
   "outputs": [
    {
     "name": "stdout",
     "output_type": "stream",
     "text": [
      "My favorite animal is also cow!\n"
     ]
    }
   ],
   "source": [
    "fav_animal:str = input(\"What's your favorite animal?\")\n",
    "print(f\"My favorite animal is also {fav_animal}!\")"
   ]
  },
  {
   "cell_type": "code",
   "execution_count": 11,
   "metadata": {},
   "outputs": [
    {
     "data": {
      "text/plain": [
       "\"\\nFahrenheit to Celsius Write a program which prompts the user for a temperature in Fahrenheit (this can be a number with decimal places!) and outputs the temperature converted to Celsius.\\n\\nThe Celsius scale is widely used to measure temperature, but places still use Fahrenheit. Fahrenheit is another unit for temperature, but the scale is different from Celsius -- for example, 0 degrees Celsius is 32 degrees Fahrenheit!\\n\\nThe equation you should use for converting from Fahrenheit to Celsius is the following:\\n\\ndegrees_celsius = (degrees_fahrenheit - 32) * 5.0/9.0\\n\\n(Note. The .0 after the 5 and 9 matters in the line above!!!)\\n\\nHere's a sample run of the program (user input is in bold italics):\\n\\nEnter temperature in Fahrenheit: 76\\n\\nTemperature: 76.0F = 24.444444444444443C\\n\\n\""
      ]
     },
     "execution_count": 11,
     "metadata": {},
     "output_type": "execute_result"
    }
   ],
   "source": [
    "\"\"\"\n",
    "Fahrenheit to Celsius Write a program which prompts the user for a temperature in Fahrenheit (this can be a number with decimal places!) and outputs the temperature converted to Celsius.\n",
    "\n",
    "The Celsius scale is widely used to measure temperature, but places still use Fahrenheit. Fahrenheit is another unit for temperature, but the scale is different from Celsius -- for example, 0 degrees Celsius is 32 degrees Fahrenheit!\n",
    "\n",
    "The equation you should use for converting from Fahrenheit to Celsius is the following:\n",
    "\n",
    "degrees_celsius = (degrees_fahrenheit - 32) * 5.0/9.0\n",
    "\n",
    "(Note. The .0 after the 5 and 9 matters in the line above!!!)\n",
    "\n",
    "Here's a sample run of the program (user input is in bold italics):\n",
    "\n",
    "Enter temperature in Fahrenheit: 76\n",
    "\n",
    "Temperature: 76.0F = 24.444444444444443C\n",
    "\n",
    "\"\"\""
   ]
  },
  {
   "cell_type": "code",
   "execution_count": 17,
   "metadata": {},
   "outputs": [
    {
     "name": "stdout",
     "output_type": "stream",
     "text": [
      "76.0\n",
      "Temperature: 76.0F = 24.444444444444446C\n"
     ]
    }
   ],
   "source": [
    "try:\n",
    "    temp_f:float = float(input(\"Enter temperature in Fahrenheit: \"))\n",
    "    print(temp_f)\n",
    "    temp_c:float = (temp_f - 32) * (5.0/9.0)\n",
    "    print(f\"Temperature: {temp_f}F = {temp_c}C\")\n",
    "except(ValueError):\n",
    "    print('You entered wrong value')"
   ]
  },
  {
   "cell_type": "code",
   "execution_count": 21,
   "metadata": {},
   "outputs": [
    {
     "data": {
      "text/plain": [
       "\"\\n\\nTriangle Perimeters Prompt the user to enter the lengths of each side of a triangle and then calculate and print the perimeter of the triangle (the sum of all of the side lengths).\\n\\nHere's a sample run of the program (user input is in bold italics):\\n\\nWhat is the length of side 1? 3\\n\\nWhat is the length of side 2? 4\\n\\nWhat is the length of side 3? 5.5\\n\\nThe perimeter of the triangle is 12.5\\n\\n\""
      ]
     },
     "execution_count": 21,
     "metadata": {},
     "output_type": "execute_result"
    }
   ],
   "source": [
    "\"\"\"\n",
    "\n",
    "Triangle Perimeters Prompt the user to enter the lengths of each side of a triangle and then calculate and print the perimeter of the triangle (the sum of all of the side lengths).\n",
    "\n",
    "Here's a sample run of the program (user input is in bold italics):\n",
    "\n",
    "What is the length of side 1? 3\n",
    "\n",
    "What is the length of side 2? 4\n",
    "\n",
    "What is the length of side 3? 5.5\n",
    "\n",
    "The perimeter of the triangle is 12.5\n",
    "\n",
    "\"\"\""
   ]
  },
  {
   "cell_type": "code",
   "execution_count": 22,
   "metadata": {},
   "outputs": [
    {
     "name": "stdout",
     "output_type": "stream",
     "text": [
      "The perimeter of the triangle is 6.0\n"
     ]
    }
   ],
   "source": [
    "arr:list[float] = []\n",
    "for i in range(3):\n",
    "    try:\n",
    "        side:float = float(input(f\"What is the length of side {i + 1}? \"))\n",
    "        arr.append(side)\n",
    "    except (ValueError):\n",
    "        print(\"You entered wrong value !\")\n",
    "else:\n",
    "    print(f\"The perimeter of the triangle is {sum(arr)}\")\n",
    "\n"
   ]
  },
  {
   "cell_type": "code",
   "execution_count": 23,
   "metadata": {},
   "outputs": [
    {
     "data": {
      "text/plain": [
       "\"\\nSquare Number Ask the user for a number and print its square (the product of the number times itself).\\n\\nHere's a sample run of the program (user input is in bold italics):\\n\\nType a number to see its square: 4\\n\\n4.0 squared is 16.0\\n\\n\""
      ]
     },
     "execution_count": 23,
     "metadata": {},
     "output_type": "execute_result"
    }
   ],
   "source": [
    "\"\"\"\n",
    "Square Number Ask the user for a number and print its square (the product of the number times itself).\n",
    "\n",
    "Here's a sample run of the program (user input is in bold italics):\n",
    "\n",
    "Type a number to see its square: 4\n",
    "\n",
    "4.0 squared is 16.0\n",
    "\n",
    "\"\"\""
   ]
  },
  {
   "cell_type": "code",
   "execution_count": 38,
   "metadata": {},
   "outputs": [
    {
     "name": "stdout",
     "output_type": "stream",
     "text": [
      "You entered a wrong value\n"
     ]
    }
   ],
   "source": [
    "try:\n",
    "    num:float = float(input(\"Type a number to see its square: \"))\n",
    "except (ValueError):\n",
    "    print(\"You entered a wrong value\")\n",
    "else:\n",
    "    print(f\"{num} squared is {num ** 2}\")\n"
   ]
  },
  {
   "cell_type": "code",
   "execution_count": 25,
   "metadata": {},
   "outputs": [
    {
     "data": {
      "text/plain": [
       "'\\n\\n\\nDelete a number Consider a list named numbers with the elements [1, 2, 3, 4, 5]. Use list method to delete the number 3?\\n\\n'"
      ]
     },
     "execution_count": 25,
     "metadata": {},
     "output_type": "execute_result"
    }
   ],
   "source": [
    "\"\"\"\n",
    "\n",
    "\n",
    "Delete a number Consider a list named numbers with the elements [1, 2, 3, 4, 5]. Use list method to delete the number 3?\n",
    "\n",
    "\"\"\""
   ]
  },
  {
   "cell_type": "code",
   "execution_count": 26,
   "metadata": {},
   "outputs": [
    {
     "name": "stdout",
     "output_type": "stream",
     "text": [
      "[1, 2, 4, 5]\n"
     ]
    }
   ],
   "source": [
    "nums:int = [1, 2, 3, 4, 5]\n",
    "nums.remove(3)\n",
    "print(nums)"
   ]
  },
  {
   "cell_type": "code",
   "execution_count": 27,
   "metadata": {},
   "outputs": [
    {
     "data": {
      "text/plain": [
       "'\\n\\n\\nCreating a list You have two lists:\\n\\n    list1 with elements [1, 2, 3]\\n    list2 with elements [4, 5, 6].\\n    Create a program using list method to add the elements of list2 to list1.\\n\\n\\n'"
      ]
     },
     "execution_count": 27,
     "metadata": {},
     "output_type": "execute_result"
    }
   ],
   "source": [
    "\"\"\"\n",
    "\n",
    "\n",
    "Creating a list You have two lists:\n",
    "\n",
    "    list1 with elements [1, 2, 3]\n",
    "    list2 with elements [4, 5, 6].\n",
    "    Create a program using list method to add the elements of list2 to list1.\n",
    "\n",
    "\n",
    "\"\"\""
   ]
  },
  {
   "cell_type": "code",
   "execution_count": 28,
   "metadata": {},
   "outputs": [
    {
     "name": "stdout",
     "output_type": "stream",
     "text": [
      "[1, 2, 3, 4, 5, 6]\n"
     ]
    }
   ],
   "source": [
    "list1:list[int] = [1, 2, 3]\n",
    "list2:list[int] = [4, 5, 6]\n",
    "\n",
    "list1.extend(list2)\n",
    "print(list1)"
   ]
  },
  {
   "cell_type": "code",
   "execution_count": 34,
   "metadata": {},
   "outputs": [
    {
     "data": {
      "text/plain": [
       "'\\nPop method You have a list named items with the elements [10, 20, 30, 40]. \\nIf you use the pop method without any arguments, what will the list look like and what value will be removed?\\n'"
      ]
     },
     "execution_count": 34,
     "metadata": {},
     "output_type": "execute_result"
    }
   ],
   "source": [
    "\"\"\"\n",
    "Pop method You have a list named items with the elements [10, 20, 30, 40]. \n",
    "If you use the pop method without any arguments, what will the list look like and what value will be removed?\n",
    "\"\"\""
   ]
  },
  {
   "cell_type": "code",
   "execution_count": 32,
   "metadata": {},
   "outputs": [
    {
     "name": "stdout",
     "output_type": "stream",
     "text": [
      "Value removed -> 40\n",
      "after removing value -> [10, 20, 30]\n"
     ]
    }
   ],
   "source": [
    "list1:list[int] = [10,20,30,40]\n",
    "print(f\"Value removed -> {list1.pop()}\")\n",
    "print(f\"after removing value -> {list1}\")"
   ]
  },
  {
   "cell_type": "code",
   "execution_count": 33,
   "metadata": {},
   "outputs": [
    {
     "data": {
      "text/plain": [
       "\"\\n\\nIndex Method You have a list called colors with the elements ['red', 'blue', 'green', 'yellow']. \\nIf you use the index method to find the position of 'green', what will the index be?\\n\\n\""
      ]
     },
     "execution_count": 33,
     "metadata": {},
     "output_type": "execute_result"
    }
   ],
   "source": [
    "\"\"\"\n",
    "\n",
    "Index Method You have a list called colors with the elements ['red', 'blue', 'green', 'yellow']. \n",
    "If you use the index method to find the position of 'green', what will the index be?\n",
    "\n",
    "\"\"\""
   ]
  },
  {
   "cell_type": "code",
   "execution_count": 35,
   "metadata": {},
   "outputs": [
    {
     "name": "stdout",
     "output_type": "stream",
     "text": [
      "The index will be 2\n"
     ]
    }
   ],
   "source": [
    "colors:list[str] = ['red', 'blue', 'green', 'yellow']\n",
    "print(f\"The index will be {colors.index(\"green\")}\")"
   ]
  },
  {
   "cell_type": "code",
   "execution_count": null,
   "metadata": {},
   "outputs": [],
   "source": [
    "\"\"\"\n",
    "\n",
    "\n",
    "Get last element Fill out the function get_last_element(lst) which takes in a list lst as a parameter and prints the last element in the list. The list is guaranteed to be non-empty, but there are no guarantees on its length.\n",
    "\n",
    "\"\"\""
   ]
  },
  {
   "cell_type": "code",
   "execution_count": 39,
   "metadata": {},
   "outputs": [
    {
     "ename": "EmptyListException",
     "evalue": "Empty List not allowed!",
     "output_type": "error",
     "traceback": [
      "\u001b[0;31m---------------------------------------------------------------------------\u001b[0m",
      "\u001b[0;31mEmptyListException\u001b[0m                        Traceback (most recent call last)",
      "Cell \u001b[0;32mIn[39], line 20\u001b[0m\n\u001b[1;32m     17\u001b[0m         \u001b[38;5;28;01mreturn\u001b[39;00m lst[\u001b[38;5;241m-\u001b[39m\u001b[38;5;241m1\u001b[39m]\n\u001b[1;32m     19\u001b[0m get_last_element([\u001b[38;5;241m10\u001b[39m])\n\u001b[0;32m---> 20\u001b[0m get_last_element([])\n",
      "Cell \u001b[0;32mIn[39], line 15\u001b[0m, in \u001b[0;36mget_last_element\u001b[0;34m(lst)\u001b[0m\n\u001b[1;32m     13\u001b[0m \u001b[38;5;28;01mdef\u001b[39;00m \u001b[38;5;21mget_last_element\u001b[39m(lst:List[T]) \u001b[38;5;241m-\u001b[39m\u001b[38;5;241m>\u001b[39m T :\n\u001b[1;32m     14\u001b[0m     \u001b[38;5;28;01mif\u001b[39;00m \u001b[38;5;28mlen\u001b[39m(lst) \u001b[38;5;241m<\u001b[39m  \u001b[38;5;241m1\u001b[39m:\n\u001b[0;32m---> 15\u001b[0m         \u001b[38;5;28;01mraise\u001b[39;00m EmptyListException\n\u001b[1;32m     16\u001b[0m     \u001b[38;5;28;01melse\u001b[39;00m:\n\u001b[1;32m     17\u001b[0m         \u001b[38;5;28;01mreturn\u001b[39;00m lst[\u001b[38;5;241m-\u001b[39m\u001b[38;5;241m1\u001b[39m]\n",
      "\u001b[0;31mEmptyListException\u001b[0m: Empty List not allowed!"
     ]
    }
   ],
   "source": [
    "from typing import List, TypeVar\n",
    "\n",
    "\n",
    "class EmptyListException(Exception):\n",
    "    \"Raised when list is empty\"\n",
    "    def __init__(self,message = \"Empty List not allowed!\"):\n",
    "        self.message = message\n",
    "        super().__init__(self.message)\n",
    "    pass\n",
    "\n",
    "T = TypeVar('T')\n",
    "\n",
    "def get_last_element(lst:List[T]) -> T :\n",
    "    if len(lst) <  1:\n",
    "        raise EmptyListException\n",
    "    else:\n",
    "        return lst[-1]\n",
    "\n",
    "    \n",
    "get_last_element([10])\n",
    "get_last_element([])\n"
   ]
  },
  {
   "cell_type": "code",
   "execution_count": 40,
   "metadata": {},
   "outputs": [
    {
     "data": {
      "text/plain": [
       "\"\\nGet a List Write a program which continuously asks the user to enter values which are added one by one into a list. When the user presses enter without typing anything, print the list.\\n\\nHere's a sample run (user input is in blue):\\n\\nEnter a value: 1\\nEnter a value: 2\\nEnter a value: 3\\nEnter a value:\\nHere's the list: ['1', '2', '3']\\n\\n\""
      ]
     },
     "execution_count": 40,
     "metadata": {},
     "output_type": "execute_result"
    }
   ],
   "source": [
    "\"\"\"\n",
    "Get a List Write a program which continuously asks the user to enter values which are added one by one into a list. When the user presses enter without typing anything, print the list.\n",
    "\n",
    "Here's a sample run (user input is in blue):\n",
    "\n",
    "Enter a value: 1\n",
    "Enter a value: 2\n",
    "Enter a value: 3\n",
    "Enter a value:\n",
    "Here's the list: ['1', '2', '3']\n",
    "\n",
    "\"\"\""
   ]
  },
  {
   "cell_type": "code",
   "execution_count": 2,
   "metadata": {},
   "outputs": [
    {
     "name": "stdout",
     "output_type": "stream",
     "text": [
      "You entered an invalid number, ending program\n",
      "Here's the list: [1]\n"
     ]
    }
   ],
   "source": [
    "from typing import List\n",
    "nums: List[int] = []\n",
    "injest_nums: bool = True\n",
    "while injest_nums:\n",
    "    value:str = input(\"Enter a value:\")\n",
    "    if(len(value) == 0):\n",
    "        injest_nums = False\n",
    "    else:\n",
    "        try:\n",
    "            nums.append(int(value))\n",
    "        except ValueError:\n",
    "            print(\"You entered an invalid number, ending program\")\n",
    "            injest_nums = False\n",
    "else:\n",
    "    print(f\"Here's the list: {nums}\")\n"
   ]
  },
  {
   "cell_type": "code",
   "execution_count": null,
   "metadata": {},
   "outputs": [],
   "source": []
  },
  {
   "cell_type": "code",
   "execution_count": null,
   "metadata": {},
   "outputs": [],
   "source": []
  }
 ],
 "metadata": {
  "kernelspec": {
   "display_name": "Python 3",
   "language": "python",
   "name": "python3"
  },
  "language_info": {
   "codemirror_mode": {
    "name": "ipython",
    "version": 3
   },
   "file_extension": ".py",
   "mimetype": "text/x-python",
   "name": "python",
   "nbconvert_exporter": "python",
   "pygments_lexer": "ipython3",
   "version": "3.12.4"
  }
 },
 "nbformat": 4,
 "nbformat_minor": 2
}
