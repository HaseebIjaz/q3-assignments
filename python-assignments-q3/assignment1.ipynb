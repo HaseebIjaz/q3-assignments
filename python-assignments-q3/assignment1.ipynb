{
 "cells": [
  {
   "cell_type": "code",
   "execution_count": 1,
   "metadata": {},
   "outputs": [
    {
     "data": {
      "text/plain": [
       "\"\\nProblem Statement: Write a program to solve this age-related riddle! Anton, Beth, Chen, Drew, and Ethan are all friends. Their ages are as follows:\\n\\n    Anton is 21 years old.\\n    Beth is 6 years older than Anton.\\n    Chen is 20 years older than Beth.\\n    Drew is as old as Chen's age plus Anton's age.\\n    Ethan is the same age as Chen.\\n\\nYour code should store each person's age to a variable and print their names and ages at the end. \\n\""
      ]
     },
     "execution_count": 1,
     "metadata": {},
     "output_type": "execute_result"
    }
   ],
   "source": [
    "\"\"\"\n",
    "Problem Statement: Write a program to solve this age-related riddle! Anton, Beth, Chen, Drew, and Ethan are all friends. Their ages are as follows:\n",
    "\n",
    "    Anton is 21 years old.\n",
    "    Beth is 6 years older than Anton.\n",
    "    Chen is 20 years older than Beth.\n",
    "    Drew is as old as Chen's age plus Anton's age.\n",
    "    Ethan is the same age as Chen.\n",
    "\n",
    "Your code should store each person's age to a variable and print their names and ages at the end. \n",
    "\n",
    "Anton is 3\n",
    "Beth is 4\n",
    "Chen is 5\n",
    "Drew is 6\n",
    "Ethan is 7\n",
    "\"\"\""
   ]
  },
  {
   "cell_type": "code",
   "execution_count": 3,
   "metadata": {},
   "outputs": [
    {
     "name": "stdout",
     "output_type": "stream",
     "text": [
      "Anton is 21\n",
      "Beth is 27\n",
      "Chen is 47\n",
      "Drew is 68\n",
      "Ethan is 47\n"
     ]
    }
   ],
   "source": [
    "#Q1:\n",
    "anton: int = 21\n",
    "beth: int = anton + 6\n",
    "chen: int = beth + 20\n",
    "drew: int = chen + anton\n",
    "ethan: int = chen\n",
    "\n",
    "print(f\"Anton is {anton}\")\n",
    "print(f\"Beth is {beth}\")\n",
    "print(f\"Chen is {chen}\")\n",
    "print(f\"Drew is {drew}\")\n",
    "print(f\"Ethan is {ethan}\")\n",
    "\n"
   ]
  },
  {
   "cell_type": "code",
   "execution_count": 4,
   "metadata": {},
   "outputs": [
    {
     "data": {
      "text/plain": [
       "'\\nTask: Given the variables name, age, and city, use f-strings to construct a sentence that describes a person using these variables.\\n\\nname:str = \"Alice\"\\nage:int = 30\\ncity:str = \"New York\"\\n\\nInstructions: Use an f-string to create a sentence in the format: \"Alice is 30 years old and lives in New York.\"\\nExpected Output:\\n\\nAlice is 30 years old and lives in New York.\\n\\n'"
      ]
     },
     "execution_count": 4,
     "metadata": {},
     "output_type": "execute_result"
    }
   ],
   "source": [
    "\"\"\"\n",
    "Task: Given the variables name, age, and city, use f-strings to construct a sentence that describes a person using these variables.\n",
    "\n",
    "name:str = \"Alice\"\n",
    "age:int = 30\n",
    "city:str = \"New York\"\n",
    "\n",
    "Instructions: Use an f-string to create a sentence in the format: \"Alice is 30 years old and lives in New York.\"\n",
    "Expected Output:\n",
    "\n",
    "Alice is 30 years old and lives in New York.\n",
    "\n",
    "\"\"\""
   ]
  },
  {
   "cell_type": "code",
   "execution_count": 6,
   "metadata": {},
   "outputs": [
    {
     "name": "stdout",
     "output_type": "stream",
     "text": [
      "Alice is 30 years old and lives in New York\n"
     ]
    }
   ],
   "source": [
    "# Q2    \n",
    "\n",
    "name:str = \"Alice\"\n",
    "age:int = 30\n",
    "city:str = \"New York\"\n",
    "\n",
    "print(f\"{name} is {age} years old and lives in {city}\")"
   ]
  },
  {
   "cell_type": "code",
   "execution_count": 7,
   "metadata": {},
   "outputs": [
    {
     "data": {
      "text/plain": [
       "'\\nTask: Given the string s, use string methods to:\\n\\n    Capitalize the first letter: make the first character uppercase and the rest of the string lowercase.\\n    Convert to uppercase: change all characters in the string to uppercase.\\n    Convert to lowercase: change all characters in the string to lowercase.\\n\\ns:str = \"hElLo WoRlD\"\\n\\nExpected Output:\\n\\nHello world\\nHELLO WORLD\\nhello world\\n\\n'"
      ]
     },
     "execution_count": 7,
     "metadata": {},
     "output_type": "execute_result"
    }
   ],
   "source": [
    "\"\"\"\n",
    "Task: Given the string s, use string methods to:\n",
    "\n",
    "    Capitalize the first letter: make the first character uppercase and the rest of the string lowercase.\n",
    "    Convert to uppercase: change all characters in the string to uppercase.\n",
    "    Convert to lowercase: change all characters in the string to lowercase.\n",
    "\n",
    "s:str = \"hElLo WoRlD\"\n",
    "\n",
    "Expected Output:\n",
    "\n",
    "Hello world\n",
    "HELLO WORLD\n",
    "hello world\n",
    "\n",
    "\"\"\""
   ]
  },
  {
   "cell_type": "code",
   "execution_count": 9,
   "metadata": {},
   "outputs": [
    {
     "name": "stdout",
     "output_type": "stream",
     "text": [
      "Hello world\n",
      "HELLO WORLD\n",
      "hello world\n"
     ]
    }
   ],
   "source": [
    "#Q3\n",
    "s:str = \"hElLo WoRlD\"\n",
    "print(s.capitalize())\n",
    "print(s.upper())\n",
    "print(s.lower())\n"
   ]
  },
  {
   "cell_type": "code",
   "execution_count": 10,
   "metadata": {},
   "outputs": [
    {
     "data": {
      "text/plain": [
       "'\\nTask: Given the string s, use string methods to:\\n\\n    Find the index of \"fox\": get the starting index of the substring \"fox\". If \"fox\" is not found, it should return -1.\\n    Count occurrences of \"the\": Use the string\\'s built-in method to count how many times the substring \"the\" appears in the string.\\n\\ns:str =\"the quick brown fox jumps over the lazy dog\"\\n\\nExpected Output:\\n\\nindex of \\'fox\\' is 16\\n\\'the\\' appears 2 times\\n\\n'"
      ]
     },
     "execution_count": 10,
     "metadata": {},
     "output_type": "execute_result"
    }
   ],
   "source": [
    "\"\"\"\n",
    "Task: Given the string s, use string methods to:\n",
    "\n",
    "    Find the index of \"fox\": get the starting index of the substring \"fox\". If \"fox\" is not found, it should return -1.\n",
    "    Count occurrences of \"the\": Use the string's built-in method to count how many times the substring \"the\" appears in the string.\n",
    "\n",
    "s:str =\"the quick brown fox jumps over the lazy dog\"\n",
    "\n",
    "Expected Output:\n",
    "\n",
    "index of 'fox' is 16\n",
    "'the' appears 2 times\n",
    "\n",
    "\"\"\""
   ]
  },
  {
   "cell_type": "code",
   "execution_count": 12,
   "metadata": {},
   "outputs": [
    {
     "name": "stdout",
     "output_type": "stream",
     "text": [
      "index of 'fox' is 16\n",
      "'the' appears 2 times\n"
     ]
    }
   ],
   "source": [
    "#Q4\n",
    "s: str = \"the quick brown fox jumps over the lazy dog\"\n",
    "print(f\"index of 'fox' is {s.find(\"fox\")}\")\n",
    "print(f\"'the' appears {s.count(\"the\")} times\")"
   ]
  },
  {
   "cell_type": "code",
   "execution_count": 13,
   "metadata": {},
   "outputs": [
    {
     "data": {
      "text/plain": [
       "'\\nTask: Given the string s, use string methods to:\\n\\n    Replace \"Python\" with \"Java\": substitute \"Python\" with \"Java\".\\n\\ns:str =\"I love programming in Python\"\\n\\nExpected Output:\\n\\nI love programming in Java\\n\\n'"
      ]
     },
     "execution_count": 13,
     "metadata": {},
     "output_type": "execute_result"
    }
   ],
   "source": [
    "\"\"\"\n",
    "Task: Given the string s, use string methods to:\n",
    "\n",
    "    Replace \"Python\" with \"Java\": substitute \"Python\" with \"Java\".\n",
    "\n",
    "s:str =\"I love programming in Python\"\n",
    "\n",
    "Expected Output:\n",
    "\n",
    "I love programming in Java\n",
    "\n",
    "\"\"\""
   ]
  },
  {
   "cell_type": "code",
   "execution_count": 17,
   "metadata": {},
   "outputs": [
    {
     "name": "stdout",
     "output_type": "stream",
     "text": [
      "I love programming in Java\n"
     ]
    }
   ],
   "source": [
    "#Q5\n",
    "s:str = \"I love programming in Python\"\n",
    "new_s:str = s.replace(\"Python\",\"Java\")\n",
    "print(new_s)"
   ]
  },
  {
   "cell_type": "code",
   "execution_count": 18,
   "metadata": {},
   "outputs": [
    {
     "data": {
      "text/plain": [
       "'\\nTask: Given the string s, use string methods to:\\n\\n    Split into a list: break the string into a list of substrings based on the delimiter ,.\\n    Join with spaces: combine the list of substrings back into a single string, with each element separated by a space.\\n\\ns:str =\"apple,banana,cherry,dates\"\\n\\nExpected Output:\\n\\n[\"apple\", \"banana\", \"cherry\", \"dates\"]\\napple banana cherry dates\\n'"
      ]
     },
     "execution_count": 18,
     "metadata": {},
     "output_type": "execute_result"
    }
   ],
   "source": [
    "\"\"\"\n",
    "Task: Given the string s, use string methods to:\n",
    "\n",
    "    Split into a list: break the string into a list of substrings based on the delimiter ,.\n",
    "    Join with spaces: combine the list of substrings back into a single string, with each element separated by a space.\n",
    "\n",
    "s:str =\"apple,banana,cherry,dates\"\n",
    "\n",
    "Expected Output:\n",
    "\n",
    "[\"apple\", \"banana\", \"cherry\", \"dates\"]\n",
    "apple banana cherry dates\n",
    "\"\"\""
   ]
  },
  {
   "cell_type": "code",
   "execution_count": 24,
   "metadata": {},
   "outputs": [
    {
     "name": "stdout",
     "output_type": "stream",
     "text": [
      "['apple', 'banana', 'cherry', 'dates']\n",
      "apple banana cherry dates\n"
     ]
    }
   ],
   "source": [
    "#Q6\n",
    "s:str = \"apple,banana,cherry,dates\"\n",
    "s_arr = s.split(',')\n",
    "new_s:str = ' '.join(s_arr,)\n",
    "print(s_arr)\n",
    "print(new_s)"
   ]
  },
  {
   "cell_type": "code",
   "execution_count": 25,
   "metadata": {},
   "outputs": [
    {
     "data": {
      "text/plain": [
       "'\\nTask: Given the string s, use string methods to:\\n\\n    Remove leading/trailing spaces: remove all leading and trailing whitespace characters from the string.\\n    Left justify with \\'*\\': left justify the string within a field of width 20, using * as the fill character.\\n    Right justify with \\'*\\': right justify the string within a field of width 20, using * as the fill character.\\n\\ns:str =\"   Python is fun!   \"\\n\\nExpected Output:\\n\\nPython is fun!\\nPython is fun!*****\\n*****Python is fun!\\n\\n'"
      ]
     },
     "execution_count": 25,
     "metadata": {},
     "output_type": "execute_result"
    }
   ],
   "source": [
    "\"\"\"\n",
    "Task: Given the string s, use string methods to:\n",
    "\n",
    "    Remove leading/trailing spaces: remove all leading and trailing whitespace characters from the string.\n",
    "    Left justify with '*': left justify the string within a field of width 20, using * as the fill character.\n",
    "    Right justify with '*': right justify the string within a field of width 20, using * as the fill character.\n",
    "\n",
    "s:str =\"   Python is fun!   \"\n",
    "\n",
    "Expected Output:\n",
    "\n",
    "Python is fun!\n",
    "Python is fun!*****\n",
    "*****Python is fun!\n",
    "\n",
    "\"\"\""
   ]
  },
  {
   "cell_type": "code",
   "execution_count": 27,
   "metadata": {},
   "outputs": [
    {
     "name": "stdout",
     "output_type": "stream",
     "text": [
      "Python is fun!\n",
      "Python is fun!*****\n",
      "*****Python is fun!\n"
     ]
    }
   ],
   "source": [
    "#Q7\n",
    "s:str = \"   Python is fun!   \"\n",
    "trimmed_s:str = s.strip()\n",
    "\n",
    "print(trimmed_s)\n",
    "print(trimmed_s.ljust(len(trimmed_s) + 5, \"*\"))\n",
    "print(trimmed_s.rjust(len(trimmed_s) + 5, \"*\"))"
   ]
  },
  {
   "cell_type": "code",
   "execution_count": 28,
   "metadata": {},
   "outputs": [
    {
     "data": {
      "text/plain": [
       "'\\nTask: Given an integer num\\n\\n    Obtain the binary representation of num\\n\\nnum:int = 45\\n\\nExpected Output:\\n\\nBinary representation : 0b101101\\n\\n'"
      ]
     },
     "execution_count": 28,
     "metadata": {},
     "output_type": "execute_result"
    }
   ],
   "source": [
    "\"\"\"\n",
    "Task: Given an integer num\n",
    "\n",
    "    Obtain the binary representation of num\n",
    "\n",
    "num:int = 45\n",
    "\n",
    "Expected Output:\n",
    "\n",
    "Binary representation : 0b101101\n",
    "\n",
    "\"\"\""
   ]
  },
  {
   "cell_type": "code",
   "execution_count": 35,
   "metadata": {},
   "outputs": [
    {
     "name": "stdout",
     "output_type": "stream",
     "text": [
      "Binary representation : 0b101101\n"
     ]
    }
   ],
   "source": [
    "#Q8\n",
    "num:int = 45\n",
    "print(f\"Binary representation : {bin(num)}\")\n"
   ]
  },
  {
   "cell_type": "code",
   "execution_count": 36,
   "metadata": {},
   "outputs": [
    {
     "data": {
      "text/plain": [
       "'\\nTask: Given two integers base and exponent\\n\\n    Compute base raised to the power of exponent.\\n\\nbase:int = 3\\nexponent:int = 4\\n\\nExpected Output:\\n\\nPower result: 81\\n\\n'"
      ]
     },
     "execution_count": 36,
     "metadata": {},
     "output_type": "execute_result"
    }
   ],
   "source": [
    "\"\"\"\n",
    "Task: Given two integers base and exponent\n",
    "\n",
    "    Compute base raised to the power of exponent.\n",
    "\n",
    "base:int = 3\n",
    "exponent:int = 4\n",
    "\n",
    "Expected Output:\n",
    "\n",
    "Power result: 81\n",
    "\n",
    "\"\"\""
   ]
  },
  {
   "cell_type": "code",
   "execution_count": 38,
   "metadata": {},
   "outputs": [
    {
     "name": "stdout",
     "output_type": "stream",
     "text": [
      "Power result: 81\n"
     ]
    }
   ],
   "source": [
    "#Q9\n",
    "\n",
    "base:int = 3\n",
    "exponent:int = 4\n",
    "\n",
    "print(f\"Power result: {base ** exponent}\")"
   ]
  },
  {
   "cell_type": "code",
   "execution_count": 39,
   "metadata": {},
   "outputs": [
    {
     "data": {
      "text/plain": [
       "'\\nTask: Given a floating-point number value\\n\\n    Round value to the nearest integer.\\n    Round value to two decimal places.\\n\\nvalue:float = 12.34567\\n\\nExpected Output:\\n\\nRounded to nearest integer: 12\\nRounded to two decimal places: 12.35\\n\\n'"
      ]
     },
     "execution_count": 39,
     "metadata": {},
     "output_type": "execute_result"
    }
   ],
   "source": [
    "\"\"\"\n",
    "Task: Given a floating-point number value\n",
    "\n",
    "    Round value to the nearest integer.\n",
    "    Round value to two decimal places.\n",
    "\n",
    "value:float = 12.34567\n",
    "\n",
    "Expected Output:\n",
    "\n",
    "Rounded to nearest integer: 12\n",
    "Rounded to two decimal places: 12.35\n",
    "\n",
    "\"\"\""
   ]
  },
  {
   "cell_type": "code",
   "execution_count": 42,
   "metadata": {},
   "outputs": [
    {
     "name": "stdout",
     "output_type": "stream",
     "text": [
      "Rounded to neaerest integer: 12\n",
      "Rounded to two decimal places: 12.35\n"
     ]
    }
   ],
   "source": [
    "#Q10\n",
    "value: float = 12.34567\n",
    "print(f\"Rounded to neaerest integer: {round(value)}\")\n",
    "print(f\"Rounded to two decimal places: {round(value,2)}\")"
   ]
  },
  {
   "cell_type": "code",
   "execution_count": null,
   "metadata": {},
   "outputs": [],
   "source": []
  }
 ],
 "metadata": {
  "kernelspec": {
   "display_name": "python3.12",
   "language": "python",
   "name": "python3"
  },
  "language_info": {
   "codemirror_mode": {
    "name": "ipython",
    "version": 3
   },
   "file_extension": ".py",
   "mimetype": "text/x-python",
   "name": "python",
   "nbconvert_exporter": "python",
   "pygments_lexer": "ipython3",
   "version": "3.12.0"
  }
 },
 "nbformat": 4,
 "nbformat_minor": 2
}
